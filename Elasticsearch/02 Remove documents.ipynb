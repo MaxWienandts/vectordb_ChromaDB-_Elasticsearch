{
 "cells": [
  {
   "cell_type": "code",
   "execution_count": 1,
   "id": "d909cd33-887d-4d9e-b3b9-06d332f0ce21",
   "metadata": {},
   "outputs": [],
   "source": [
    "import os\n",
    "from dotenv import load_dotenv"
   ]
  },
  {
   "cell_type": "code",
   "execution_count": 2,
   "id": "95f1ed5d-00cf-4033-9b75-5aadc27578c9",
   "metadata": {},
   "outputs": [],
   "source": [
    "load_dotenv()\n",
    "# Check if variables are correctly loaded from .env   \n",
    "EMBEDDING_KEY = os.getenv('EMBEDDING_KEY')\n",
    "if not EMBEDDING_KEY:\n",
    "    raise ValueError(\"EMBEDDING_KEY not found in environment variables\")\n",
    "\n",
    "DEPLOYMENT_NAME_EMBEDDING = os.getenv('DEPLOYMENT_NAME_EMBEDDING')\n",
    "if not DEPLOYMENT_NAME_EMBEDDING:\n",
    "    raise ValueError(\"DEPLOYMENT_NAME_EMBEDDING not found in environment variables\")\n",
    "    \n",
    "AZURE_ENDPOINT_EMBEDDING = os.getenv('AZURE_ENDPOINT_EMBEDDING')\n",
    "if not AZURE_ENDPOINT_EMBEDDING:\n",
    "    raise ValueError(\"AZURE_ENDPOINT_EMBEDDING not found in environment variables\")\n",
    "\n",
    "API_BASE_EMBEDDING = os.getenv('API_BASE_EMBEDDING')\n",
    "if not API_BASE_EMBEDDING:\n",
    "    raise ValueError(\"API_BASE_EMBEDDING not found in environment variables\")\n",
    "\n",
    "ELASTICSEARCH_USER = os.getenv('ELASTICSEARCH_USER')\n",
    "if not API_BASE_EMBEDDING:\n",
    "    raise ValueError(\"ELASTICSEARCH_USER not found in environment variables\")\n",
    "\n",
    "ELASTICSEARCH_PASSWORD = os.getenv('ELASTICSEARCH_PASSWORD')\n",
    "if not API_BASE_EMBEDDING:\n",
    "    raise ValueError(\"ELASTICSEARCH_PASSWORD not found in environment variables\")\n",
    "\n",
    "ELASTICSEARCH_ENDPOINT = os.getenv('ELASTICSEARCH_ENDPOINT')\n",
    "if not ELASTICSEARCH_ENDPOINT:\n",
    "    raise ValueError(\"ELASTICSEARCH_ENDPOINT not found in environment variables\")"
   ]
  },
  {
   "cell_type": "code",
   "execution_count": 3,
   "id": "a3949ac4-2884-45a3-a041-02c939d1c2c5",
   "metadata": {},
   "outputs": [],
   "source": [
    "def return_vectordb_full_text_and_questions():\n",
    "    '''\n",
    "    collection_full_text: Connection to the full-text index.\n",
    "    collection_questions_text: Connection to the question-based index.\n",
    "    es: Direct Elasticsearch client instance.\n",
    "    '''\n",
    "    from langchain_openai import AzureOpenAIEmbeddings\n",
    "    from langchain_elasticsearch import ElasticsearchStore\n",
    "    from elasticsearch import Elasticsearch\n",
    "\n",
    "    # Embedding for LangChain\n",
    "    embedding_function_to_langchain = AzureOpenAIEmbeddings(\n",
    "        model = 'text-embedding-3-small',\n",
    "        api_key = EMBEDDING_KEY,\n",
    "        deployment = DEPLOYMENT_NAME_EMBEDDING,\n",
    "        azure_endpoint = AZURE_ENDPOINT_EMBEDDING\n",
    "    ) \n",
    "\n",
    "    dict_return = {}\n",
    "    # Conect to elastic search\n",
    "    dict_return['collection_full_text'] = ElasticsearchStore(\n",
    "        es_url = ELASTICSEARCH_ENDPOINT,\n",
    "        index_name = \"collection_full_text\",\n",
    "        embedding = embedding_function_to_langchain,\n",
    "        es_user = ELASTICSEARCH_USER,\n",
    "        es_password = ELASTICSEARCH_PASSWORD,\n",
    "    )\n",
    "    \n",
    "    dict_return['collection_questions_text'] = ElasticsearchStore(\n",
    "        es_url = ELASTICSEARCH_ENDPOINT,\n",
    "        index_name = \"collection_questions_text\",\n",
    "        embedding = embedding_function_to_langchain,\n",
    "        es_user = ELASTICSEARCH_USER,\n",
    "        es_password = ELASTICSEARCH_PASSWORD,\n",
    "    )\n",
    "\n",
    "    dict_return['es'] = Elasticsearch(\n",
    "        ELASTICSEARCH_ENDPOINT,\n",
    "        basic_auth=(ELASTICSEARCH_USER, ELASTICSEARCH_PASSWORD)\n",
    "    )\n",
    "    \n",
    "    return dict_return\n",
    "\n",
    "# Get necessary information about the collection in the vector db\n",
    "index_name_collection_full_text = 'collection_full_text'\n",
    "index_name_collection_questions_text = 'collection_questions_text'\n",
    "# Connect with elastic seach and langchain\n",
    "dict_vectordb = return_vectordb_full_text_and_questions()"
   ]
  },
  {
   "cell_type": "markdown",
   "id": "cbf0dcbb-f3c4-482d-8bec-395631628683",
   "metadata": {},
   "source": [
    "## Deleta documentos por metadados document_name"
   ]
  },
  {
   "cell_type": "code",
   "execution_count": 4,
   "id": "c97fd822-598c-44ac-93fe-5d6c956481b1",
   "metadata": {},
   "outputs": [],
   "source": [
    "# search_document_by_document_name\n",
    "def search_document_by_document_name(dict_vectordb_fc, index_name, document_name_to_find):\n",
    "    \"\"\"\n",
    "    Search Elasticsearch index for a document with a matching content query and return its metadata.\n",
    "    \n",
    "    :param index_name: Elasticsearch index name\n",
    "    :param query: Query to search in the document content\n",
    "    :param size: Number of documents to retrieve\n",
    "    :return: Document id, including the metadata\n",
    "    \"\"\"\n",
    "    search_result = dict_vectordb_fc['es'].search(\n",
    "        index = index_name,\n",
    "        body = {\n",
    "            \"query\": {\n",
    "                \"term\": {\n",
    "                    \"metadata.document_name.keyword\": document_name_to_find  # Search in the 'text' field\n",
    "                }\n",
    "            },\n",
    "            \"size\": 10000  # Move 'size' inside the 'body'\n",
    "        }\n",
    "    )\n",
    "    \n",
    "    if search_result[\"hits\"][\"total\"][\"value\"] > 0:  # represents the total number of documents that match the query.\n",
    "        document_ids = [hit['_id'] for hit in search_result['hits']['hits']]\n",
    "        return document_ids\n",
    "    else:\n",
    "        return None"
   ]
  },
  {
   "cell_type": "code",
   "execution_count": 5,
   "id": "127d3eff-9574-4f3f-a512-dbf4eba57142",
   "metadata": {
    "scrolled": true
   },
   "outputs": [
    {
     "name": "stdout",
     "output_type": "stream",
     "text": [
      "Length of ids_to_delete: 72\n"
     ]
    },
    {
     "data": {
      "text/plain": [
       "['c10d282f-24b3-4d10-99af-72b8c3e4401b',\n",
       " '5a0dcece-13fd-4fe2-83f8-a1abb97a2368',\n",
       " 'bd58cfa3-668a-41de-b54a-b62a063fed1d',\n",
       " '01225d80-d6e8-459a-bc42-fdc9184c2766',\n",
       " '53d954c3-95de-456b-b23d-27ce9cbc0118',\n",
       " 'a0598d11-e923-4f14-9a98-2bdab0bac451',\n",
       " '5f57f8dc-8a0c-48f8-903d-0423dde7f9c7',\n",
       " '88c6b1fa-0087-4f6d-8e84-f09667a826bf',\n",
       " 'e6355a00-bfa6-4c26-8ef4-4d031c1981c8',\n",
       " 'a518c894-f374-4d84-859a-072ed7f436bb',\n",
       " 'd801c1d7-94d9-4034-b4a6-774fabad24ca',\n",
       " 'de7eff27-d9fc-4a52-aa02-ad000389e942',\n",
       " '0ebd032c-65f7-4ccb-84a6-f79e094cd81c',\n",
       " '79e6c556-c3ba-4046-8941-18cea876d674',\n",
       " '3287694f-5143-4b28-88fd-64d7b5594375',\n",
       " '907b7096-570d-4993-ad37-b0353e6eea42',\n",
       " '14d89d59-f4a7-4568-acbc-b8cb7b4e6d03',\n",
       " '9f2314ef-766a-414c-a857-4be0bd41a670',\n",
       " '12fff5b1-a8fc-43e3-9783-54dac5359061',\n",
       " '35e7e1ab-63d7-4342-8a03-97cd7a445e44',\n",
       " '5df1e21b-347c-48e6-9db0-43ec876567cb',\n",
       " '010ff2ad-93e9-4b05-8cb4-fe29bfef024f',\n",
       " '6e04abec-292f-4af7-908e-e59617ab551d',\n",
       " '26e36824-e51c-48dd-af76-152bc8e9db4a',\n",
       " '69b903ff-20bd-41aa-bc3b-bb73935bffb5',\n",
       " '95b92bf7-af39-480e-bccd-d4224371466a',\n",
       " '95119a91-654c-458e-ae2f-e276bee1bdce',\n",
       " '61eaf69c-cf1a-4d22-b72a-1e12a7b93269',\n",
       " 'fc01c12d-4303-472f-8be7-1442f0aa21b7',\n",
       " 'fa6ccb83-83ce-4ac2-a3d1-2e4b147bdb93',\n",
       " '0e016160-953b-406c-aebf-078c97e089e2',\n",
       " 'f8b90f71-7d04-41f2-b916-02561c57e066',\n",
       " 'a99c602b-a546-4ddf-ae8e-2e4a4743d76a',\n",
       " 'f23df584-5c8d-4cee-8ad8-549f105f9945',\n",
       " '9c6f9616-5956-46fb-8deb-4e05cf46a1cf',\n",
       " '45b81a2b-a54c-4091-ad73-4652534fc95c',\n",
       " '52ccdb33-4a5f-4df1-af52-58ade46b7c42',\n",
       " 'f33aaf24-1ce4-4fa6-bf4d-3a775a51c47d',\n",
       " 'fd2d928f-c32f-45cc-a793-702ac5c85f31',\n",
       " '66825dca-b0fd-4f34-9f34-3ba93e47aabf',\n",
       " '35769014-45d1-4182-851f-cdc9d703a3f5',\n",
       " '5c57ae1a-87b0-4da0-ab42-46594fede2fd',\n",
       " 'caa996da-dd2e-4eb4-a3ac-0f49ce48f5ed',\n",
       " '7f877d56-9508-487c-86c8-b10d77647ed6',\n",
       " 'c42c787e-e404-4a7d-be32-e3f30a7102f8',\n",
       " 'ec9d4606-acda-42f9-9f1b-7807f98dc8d4',\n",
       " '646498c8-9d7f-44c1-8ce9-cf13c8dccab0',\n",
       " 'a35789dc-601e-4927-b3bb-4f8b161e0a85',\n",
       " '9fb6867b-4b62-4a00-a979-bfe97f3672a5',\n",
       " '20ac3b9e-c74d-4255-9a87-9e77400a8534',\n",
       " 'a3c3f16b-c586-4c88-9fe6-dae2115822d3',\n",
       " '74c5b499-f07d-48e6-9ede-6136984e3a54',\n",
       " '816e2d80-0f37-4b81-bf65-26c195117775',\n",
       " '4ebdb608-c54a-41a5-b6bc-86b571f07425',\n",
       " 'df25bfc5-db4c-4a21-9815-397cae924fd9',\n",
       " 'e8f603a1-77aa-413f-ab7c-d90883ca348b',\n",
       " '9af33dc1-1aab-4522-93ec-a88d2448809b',\n",
       " 'b3da3f7f-643d-4e35-9233-e9884503773d',\n",
       " 'dfa0c75a-d6f5-4b24-89d9-462b210a9ff9',\n",
       " '96c98091-de31-4ff4-a419-b2f1ac44a9b2',\n",
       " 'e27ac583-f3ab-461d-856b-56f2746fa1e7',\n",
       " '72cfa724-1162-4369-9f5e-d09977deeee7',\n",
       " '3e99bed1-cb08-44b8-a35a-d0cff4b8ca78',\n",
       " '6d7792aa-a5b5-4ad4-b5a3-eea2df5a99cf',\n",
       " 'aa0f52ac-5cfd-41d4-92ca-eb545417e40e',\n",
       " '2dca8963-0970-40a5-a449-97f8bbb4d819',\n",
       " '1695dc4e-b27e-49c1-a9ec-9cb23cf6eb1b',\n",
       " '154fa360-a2b3-4706-851c-063a43529e0f',\n",
       " 'c36ad231-54fb-48c8-8dd2-077bcda7081e',\n",
       " 'ae2d50db-de25-4de2-89c4-667780caf955',\n",
       " '0414aa77-9e9b-4b7c-b9d3-e2a87fa8a20d',\n",
       " '0134a11d-e1f2-4dcc-946c-09f36eb29ff1']"
      ]
     },
     "metadata": {},
     "output_type": "display_data"
    }
   ],
   "source": [
    "doc_to_delete = 'DeepSeek-R1 Incentivizing Reasoning Capability in LLMs via.pdf'\n",
    "ids_to_delete_full_text = search_document_by_document_name(dict_vectordb_fc = dict_vectordb, \n",
    "    index_name = \"collection_full_text\", \n",
    "    document_name_to_find = doc_to_delete,\n",
    ")\n",
    "ids_to_delete_questions_text = search_document_by_document_name(dict_vectordb_fc = dict_vectordb, \n",
    "    index_name = 'collection_questions_text', \n",
    "    document_name_to_find = doc_to_delete,\n",
    ")\n",
    "print(f'Length of ids_to_delete: {len(ids_to_delete_full_text)}')\n",
    "display(ids_to_delete_full_text)"
   ]
  },
  {
   "cell_type": "code",
   "execution_count": 6,
   "id": "2d8cba9c-269b-45a8-8a7c-8f967b29b5aa",
   "metadata": {},
   "outputs": [
    {
     "data": {
      "text/plain": [
       "True"
      ]
     },
     "execution_count": 6,
     "metadata": {},
     "output_type": "execute_result"
    }
   ],
   "source": [
    "# Delete from Elasticsearch\n",
    "dict_vectordb['collection_full_text'].delete(ids = ids_to_delete_full_text)\n",
    "dict_vectordb['collection_questions_text'].delete(ids = ids_to_delete_questions_text)"
   ]
  },
  {
   "cell_type": "markdown",
   "id": "47f825f3-20f5-4dad-a321-c4a6a9d42b6c",
   "metadata": {},
   "source": [
    "## Verify if it was deleted"
   ]
  },
  {
   "cell_type": "code",
   "execution_count": 10,
   "id": "81a7fc76-7a4e-411b-9ac6-48ef45bda618",
   "metadata": {},
   "outputs": [
    {
     "data": {
      "text/plain": [
       "None"
      ]
     },
     "metadata": {},
     "output_type": "display_data"
    }
   ],
   "source": [
    "doc_to_delete = 'DeepSeek-R1 Incentivizing Reasoning Capability in LLMs via.pdf'\n",
    "ids_to_delete_full_text = search_document_by_document_name(dict_vectordb_fc = dict_vectordb, \n",
    "    index_name = \"collection_full_text\", \n",
    "    document_name_to_find = doc_to_delete,\n",
    ")\n",
    "display(ids_to_delete_full_text)"
   ]
  },
  {
   "cell_type": "code",
   "execution_count": null,
   "id": "51929d86-833e-496f-b88e-67bf9284fdc9",
   "metadata": {},
   "outputs": [],
   "source": []
  },
  {
   "cell_type": "code",
   "execution_count": null,
   "id": "d19ff771-b0a6-4dec-bce4-f94decf5e93e",
   "metadata": {},
   "outputs": [],
   "source": []
  }
 ],
 "metadata": {
  "kernelspec": {
   "display_name": "Python 3 (ipykernel)",
   "language": "python",
   "name": "python3"
  },
  "language_info": {
   "codemirror_mode": {
    "name": "ipython",
    "version": 3
   },
   "file_extension": ".py",
   "mimetype": "text/x-python",
   "name": "python",
   "nbconvert_exporter": "python",
   "pygments_lexer": "ipython3",
   "version": "3.10.0"
  }
 },
 "nbformat": 4,
 "nbformat_minor": 5
}
