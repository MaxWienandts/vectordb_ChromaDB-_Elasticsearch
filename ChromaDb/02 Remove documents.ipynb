{
 "cells": [
  {
   "cell_type": "code",
   "execution_count": 1,
   "id": "d909cd33-887d-4d9e-b3b9-06d332f0ce21",
   "metadata": {},
   "outputs": [],
   "source": [
    "import os\n",
    "from dotenv import load_dotenv\n",
    "import pandas as pd\n",
    "import numpy as np\n",
    "\n",
    "import chromadb.utils.embedding_functions as embedding_functions\n",
    "import chromadb\n",
    "from langchain_openai import AzureOpenAIEmbeddings\n",
    "from langchain_chroma import Chroma"
   ]
  },
  {
   "cell_type": "code",
   "execution_count": 2,
   "id": "95f1ed5d-00cf-4033-9b75-5aadc27578c9",
   "metadata": {},
   "outputs": [],
   "source": [
    "load_dotenv()\n",
    "# Check if variables are correctly loaded from .env\n",
    "AZURE_OPENAI_API_KEY_2 = os.getenv('AZURE_OPENAI_API_KEY')\n",
    "if not AZURE_OPENAI_API_KEY_2:\n",
    "    raise ValueError(\"AZURE_OPENAI_API_KEY not found in environment variables\")\n",
    "\n",
    "DEPLOYMENT_NAME_LLM = os.getenv('DEPLOYMENT_NAME_LLM')\n",
    "if not DEPLOYMENT_NAME_LLM:\n",
    "    raise ValueError(\"DEPLOYMENT_NAME_LLM not found in environment variables\")\n",
    "\n",
    "API_VERSION = os.getenv('API_VERSION')\n",
    "if not API_VERSION:\n",
    "    raise ValueError(\"API_VERSION not found in environment variables\")\n",
    "    \n",
    "AZURE_ENDPOINT_LLM = os.getenv('AZURE_ENDPOINT_LLM')\n",
    "if not AZURE_ENDPOINT_LLM:\n",
    "    raise ValueError(\"AZURE_ENDPOINT_LLM not found in environment variables\")\n",
    "\n",
    "EMBEDDING_KEY = os.getenv('EMBEDDING_KEY')\n",
    "if not EMBEDDING_KEY:\n",
    "    raise ValueError(\"EMBEDDING_KEY not found in environment variables\")\n",
    "\n",
    "DEPLOYMENT_NAME_EMBEDDING = os.getenv('DEPLOYMENT_NAME_EMBEDDING')\n",
    "if not DEPLOYMENT_NAME_EMBEDDING:\n",
    "    raise ValueError(\"DEPLOYMENT_NAME_EMBEDDING not found in environment variables\")\n",
    "    \n",
    "AZURE_ENDPOINT_EMBEDDING = os.getenv('AZURE_ENDPOINT_EMBEDDING')\n",
    "if not AZURE_ENDPOINT_EMBEDDING:\n",
    "    raise ValueError(\"AZURE_ENDPOINT_EMBEDDING not found in environment variables\")\n",
    "\n",
    "API_BASE_EMBEDDING = os.getenv('API_BASE_EMBEDDING')\n",
    "if not API_BASE_EMBEDDING:\n",
    "    raise ValueError(\"API_BASE_EMBEDDING not found in environment variables\")"
   ]
  },
  {
   "cell_type": "code",
   "execution_count": 3,
   "id": "d0b4ffa2-558e-44cd-ba12-c715313594f9",
   "metadata": {},
   "outputs": [],
   "source": [
    "# Embedding for ChromaDB\n",
    "embedding_function = embedding_functions.OpenAIEmbeddingFunction(\n",
    "                api_key = EMBEDDING_KEY,\n",
    "                api_base = API_BASE_EMBEDDING ,\n",
    "                api_type = \"azure\",\n",
    "                api_version=\"2023-05-15\",\n",
    "                model_name=DEPLOYMENT_NAME_EMBEDDING\n",
    "            )\n",
    "# Embedding for LangChain\n",
    "embedding_function_to_langchain = AzureOpenAIEmbeddings(\n",
    "    model = 'text-embedding-3-small'\n",
    "    , deployment = DEPLOYMENT_NAME_EMBEDDING\n",
    "    , azure_endpoint = AZURE_ENDPOINT_EMBEDDING\n",
    ") \n",
    "\n",
    "# Create/load a local Croma database.\n",
    "persist_directory = 'embedding_OpenAI/chroma/'\n",
    "client = chromadb.PersistentClient(path = persist_directory)\n",
    "# Create or get a collection\n",
    "collection_full_text = client.get_or_create_collection(name = \"full_text\", embedding_function = embedding_function)\n",
    "collection_questions = client.get_or_create_collection(name = \"questions_text\", embedding_function = embedding_function)\n",
    "# Chroma instaces\n",
    "chroma_instance_full_text = Chroma(\n",
    "    client = client,\n",
    "    collection_name = \"full_text\",\n",
    "    embedding_function = embedding_function_to_langchain,\n",
    ")\n",
    "chroma_instance_questions = Chroma(\n",
    "    client = client,\n",
    "    collection_name = \"questions_text\",\n",
    "    embedding_function = embedding_function_to_langchain,\n",
    ")"
   ]
  },
  {
   "cell_type": "code",
   "execution_count": 6,
   "id": "f9818cd1-05b3-46c0-8e1b-6468e564c359",
   "metadata": {
    "scrolled": true
   },
   "outputs": [
    {
     "name": "stdout",
     "output_type": "stream",
     "text": [
      "Length of ids_to_delete: 36\n"
     ]
    },
    {
     "data": {
      "text/plain": [
       "['112',\n",
       " '113',\n",
       " '114',\n",
       " '115',\n",
       " '116',\n",
       " '117',\n",
       " '118',\n",
       " '119',\n",
       " '120',\n",
       " '121',\n",
       " '122',\n",
       " '123',\n",
       " '124',\n",
       " '125',\n",
       " '126',\n",
       " '127',\n",
       " '128',\n",
       " '129',\n",
       " '130',\n",
       " '131',\n",
       " '132',\n",
       " '133',\n",
       " '134',\n",
       " '135',\n",
       " '136',\n",
       " '137',\n",
       " '138',\n",
       " '139',\n",
       " '140',\n",
       " '141',\n",
       " '142',\n",
       " '143',\n",
       " '144',\n",
       " '145',\n",
       " '146',\n",
       " '147']"
      ]
     },
     "metadata": {},
     "output_type": "display_data"
    }
   ],
   "source": [
    "# Get index to be deleted\n",
    "ids_to_delete = []\n",
    "documents = collection_full_text.get(include=[\"documents\", \"metadatas\"])\n",
    "\n",
    "# Transform metadata into a pandas data frame to filter ids\n",
    "df_metadata =  pd.DataFrame.from_dict(documents['metadatas'])\n",
    "\n",
    "# Get only documents of interes\n",
    "doc_to_delete = 'DeepSeek-R1 Incentivizing Reasoning Capability in LLMs via.pdf'\n",
    "df_to_delete = df_metadata[np.isin(df_metadata['document_name'], doc_to_delete)]\n",
    "# Get only ids\n",
    "ids_to_delete = df_to_delete['vector_db_id'].to_list()\n",
    "# Transform ids into string\n",
    "ids_to_delete = [str(x) for x in ids_to_delete]\n",
    "\n",
    "print(f'Length of ids_to_delete: {len(ids_to_delete)}')\n",
    "display(ids_to_delete)"
   ]
  },
  {
   "cell_type": "code",
   "execution_count": 7,
   "id": "4968a1b2-2533-435a-bd65-d700e052cf58",
   "metadata": {},
   "outputs": [],
   "source": [
    "# Delete from Chroma\n",
    "chroma_instance_full_text.delete(ids = ids_to_delete)\n",
    "chroma_instance_questions.delete(ids = ids_to_delete)"
   ]
  },
  {
   "cell_type": "markdown",
   "id": "ff9aa730-824b-450d-973c-0ae5c4aff23a",
   "metadata": {},
   "source": [
    "## Verify if it was deleted"
   ]
  },
  {
   "cell_type": "code",
   "execution_count": 8,
   "id": "fec00435-ee40-4b89-96a3-ea493e226fb6",
   "metadata": {},
   "outputs": [
    {
     "name": "stdout",
     "output_type": "stream",
     "text": [
      "Length of ids_to_delete: 0\n"
     ]
    },
    {
     "data": {
      "text/plain": [
       "[]"
      ]
     },
     "metadata": {},
     "output_type": "display_data"
    }
   ],
   "source": [
    "# We want an empty list!\n",
    "# Get index to be deleted\n",
    "ids_to_delete = []\n",
    "documents = collection_full_text.get(include=[\"documents\", \"metadatas\"])\n",
    "\n",
    "# Transform metadata into a pandas data frame to filter ids\n",
    "df_metadata =  pd.DataFrame.from_dict(documents['metadatas'])\n",
    "\n",
    "# Get only documents of interes\n",
    "doc_to_delete = 'DeepSeek-R1 Incentivizing Reasoning Capability in LLMs via.pdf'\n",
    "df_to_delete = df_metadata[np.isin(df_metadata['document_name'], doc_to_delete)]\n",
    "# Get only ids\n",
    "ids_to_delete = df_to_delete['vector_db_id'].to_list()\n",
    "# Transform ids into string\n",
    "ids_to_delete = [str(x) for x in ids_to_delete]\n",
    "\n",
    "print(f'Length of ids_to_delete: {len(ids_to_delete)}')\n",
    "display(ids_to_delete)"
   ]
  }
 ],
 "metadata": {
  "kernelspec": {
   "display_name": "Python 3 (ipykernel)",
   "language": "python",
   "name": "python3"
  },
  "language_info": {
   "codemirror_mode": {
    "name": "ipython",
    "version": 3
   },
   "file_extension": ".py",
   "mimetype": "text/x-python",
   "name": "python",
   "nbconvert_exporter": "python",
   "pygments_lexer": "ipython3",
   "version": "3.10.0"
  }
 },
 "nbformat": 4,
 "nbformat_minor": 5
}
