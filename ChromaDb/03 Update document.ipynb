{
 "cells": [
  {
   "cell_type": "code",
   "execution_count": 1,
   "id": "dde4cdff-22a9-4dbe-b928-315f365d459e",
   "metadata": {},
   "outputs": [],
   "source": [
    "import os\n",
    "import time\n",
    "\n",
    "import tqdm\n",
    "from dotenv import load_dotenv\n",
    "\n",
    "from PyPDF2 import PdfReader\n",
    "\n",
    "from langchain_openai import AzureChatOpenAI\n",
    "from langchain_openai import AzureOpenAIEmbeddings\n",
    "import chromadb.utils.embedding_functions as embedding_functions\n",
    "import chromadb\n",
    "from langchain.text_splitter import RecursiveCharacterTextSplitter, TokenTextSplitter, CharacterTextSplitter \n",
    "\n",
    "from langchain.prompts import PromptTemplate\n",
    "from langchain_chroma import Chroma"
   ]
  },
  {
   "cell_type": "code",
   "execution_count": 2,
   "id": "93952aad-1f46-40a1-88e2-f0f419835550",
   "metadata": {},
   "outputs": [],
   "source": [
    "load_dotenv()\n",
    "# Check if variables are correctly loaded from .env\n",
    "AZURE_OPENAI_API_KEY_2 = os.getenv('AZURE_OPENAI_API_KEY')\n",
    "if not AZURE_OPENAI_API_KEY_2:\n",
    "    raise ValueError(\"AZURE_OPENAI_API_KEY not found in environment variables\")\n",
    "\n",
    "DEPLOYMENT_NAME_LLM = os.getenv('DEPLOYMENT_NAME_LLM')\n",
    "if not DEPLOYMENT_NAME_LLM:\n",
    "    raise ValueError(\"DEPLOYMENT_NAME_LLM not found in environment variables\")\n",
    "\n",
    "API_VERSION = os.getenv('API_VERSION')\n",
    "if not API_VERSION:\n",
    "    raise ValueError(\"API_VERSION not found in environment variables\")\n",
    "    \n",
    "AZURE_ENDPOINT_LLM = os.getenv('AZURE_ENDPOINT_LLM')\n",
    "if not AZURE_ENDPOINT_LLM:\n",
    "    raise ValueError(\"AZURE_ENDPOINT_LLM not found in environment variables\")\n",
    "\n",
    "EMBEDDING_KEY = os.getenv('EMBEDDING_KEY')\n",
    "if not EMBEDDING_KEY:\n",
    "    raise ValueError(\"EMBEDDING_KEY not found in environment variables\")\n",
    "\n",
    "DEPLOYMENT_NAME_EMBEDDING = os.getenv('DEPLOYMENT_NAME_EMBEDDING')\n",
    "if not DEPLOYMENT_NAME_EMBEDDING:\n",
    "    raise ValueError(\"DEPLOYMENT_NAME_EMBEDDING not found in environment variables\")\n",
    "    \n",
    "AZURE_ENDPOINT_EMBEDDING = os.getenv('AZURE_ENDPOINT_EMBEDDING')\n",
    "if not AZURE_ENDPOINT_EMBEDDING:\n",
    "    raise ValueError(\"AZURE_ENDPOINT_EMBEDDING not found in environment variables\")\n",
    "\n",
    "API_BASE_EMBEDDING = os.getenv('API_BASE_EMBEDDING')\n",
    "if not API_BASE_EMBEDDING:\n",
    "    raise ValueError(\"API_BASE_EMBEDDING not found in environment variables\")"
   ]
  },
  {
   "cell_type": "code",
   "execution_count": 3,
   "id": "a105a193-9758-44d8-a049-4f561ac26992",
   "metadata": {},
   "outputs": [],
   "source": [
    "'''\n",
    "If the idea is to update an entire document that has been chunked, instead of updating,\n",
    "it is better to delete the old document and add the new one.\n",
    "'''\n",
    "# Data needed for update\n",
    "vector_db_id = 1\n",
    "document_ids = vector_db_id\n",
    "# It is possible to find the ID using the other metadata keys.\n",
    "# This notebook searches for the ID using these metadata.\n",
    "\n",
    "document_name = \"Agent_description\"\n",
    "first_page = -1\n",
    "last_page = -1\n",
    "added_by = 'default'"
   ]
  },
  {
   "cell_type": "code",
   "execution_count": 4,
   "id": "0625d6a0-f150-4216-90d2-6229fba499cd",
   "metadata": {},
   "outputs": [],
   "source": [
    "# Create a local Croma database. Não roda direto no Azure.\n",
    "persist_directory = 'embedding_OpenAI/chroma/'\n",
    "client = chromadb.PersistentClient(path = persist_directory)\n",
    "\n",
    "# Embedding for LangChain\n",
    "embedding_function_to_langchain = AzureOpenAIEmbeddings(\n",
    "    model = 'text-embedding-3-small',\n",
    "    api_key=EMBEDDING_KEY,\n",
    "    deployment = DEPLOYMENT_NAME_EMBEDDING,\n",
    "    azure_endpoint = AZURE_ENDPOINT_EMBEDDING,\n",
    ") \n",
    "\n",
    "# Embedding for ChromaDB\n",
    "embedding_function = embedding_functions.OpenAIEmbeddingFunction(\n",
    "                api_key = EMBEDDING_KEY,\n",
    "                api_base = API_BASE_EMBEDDING ,\n",
    "                api_type = \"azure\",\n",
    "                api_version=\"2023-05-15\",\n",
    "                model_name=DEPLOYMENT_NAME_EMBEDDING\n",
    "            )\n",
    "\n",
    "# Create or get collection for full text\n",
    "collection_full_text = client.get_or_create_collection(name = \"full_text\", embedding_function = embedding_function)\n",
    "\n",
    "# Create or get collection for questions\n",
    "collection_questions_text = client.get_or_create_collection(name = \"questions_text\", embedding_function = embedding_function)\n",
    "\n",
    "# Chroma instances\n",
    "chroma_instance_full_text = Chroma(\n",
    "    client = client,\n",
    "    collection_name = \"full_text\",\n",
    "    embedding_function = embedding_function_to_langchain,\n",
    ")\n",
    "chroma_instance_questions = Chroma(\n",
    "    client = client,\n",
    "    collection_name = \"questions_text\",\n",
    "    embedding_function = embedding_function_to_langchain,\n",
    ")"
   ]
  },
  {
   "cell_type": "markdown",
   "id": "f184192f-1c8b-4200-a022-50a8e5f27a3b",
   "metadata": {},
   "source": [
    "## Find id of document to be updated"
   ]
  },
  {
   "cell_type": "code",
   "execution_count": 5,
   "id": "8b21bf2c-d55b-4409-9a30-46f028be3df2",
   "metadata": {},
   "outputs": [
    {
     "name": "stdout",
     "output_type": "stream",
     "text": [
      "Document IDs matching the query: 1\n"
     ]
    }
   ],
   "source": [
    "# Define the metadata filter\n",
    "metadata_filter = {\n",
    "    \"$and\": [\n",
    "        {\"document_name\": document_name},\n",
    "        {\"first_page\": first_page},\n",
    "        {\"last_page\": last_page},\n",
    "        {\"added_by\": added_by},\n",
    "    ]\n",
    "}\n",
    "\n",
    "# Perform a query based on metadata filtering\n",
    "results = collection_full_text.get(\n",
    "    where = metadata_filter  # filter by the metadata fields\n",
    ")\n",
    "\n",
    "# Output the document id(s) that match the query\n",
    "document_ids = results[\"ids\"][0]\n",
    "print(\"Document IDs matching the query:\", document_ids)"
   ]
  },
  {
   "cell_type": "markdown",
   "id": "e94b7d99-54cc-443b-8ca1-274c85e1d7d1",
   "metadata": {},
   "source": [
    "## Hypothetical Questions"
   ]
  },
  {
   "cell_type": "code",
   "execution_count": 6,
   "id": "4a74e4a9-e5cd-429c-bf41-75c40479fcd9",
   "metadata": {},
   "outputs": [],
   "source": [
    "llm = AzureChatOpenAI(\n",
    "    deployment_name = DEPLOYMENT_NAME_LLM,\n",
    "    model_name = \"gpt-4o-mini\",\n",
    "    api_version = API_VERSION,\n",
    "    azure_endpoint = AZURE_ENDPOINT_LLM,\n",
    "    api_key = AZURE_OPENAI_API_KEY_2,\n",
    ")\n",
    "\n",
    "# Define template for answers\n",
    "# Build prompt\n",
    "template = \"\"\"Use the following pieces of context to answer the question at the end.\n",
    "{context}\n",
    "If you can't make a answer with context, just say that you don't know, don't try to make up an answer.\n",
    "Do not hallucinate.\n",
    "Question: {question}\n",
    "Helpful Answer:\"\"\"\n",
    "\n",
    "prompt = PromptTemplate.from_template(template)\n",
    "llm_chain = prompt | llm\n",
    "\n",
    "question = \"\"\"Make as many relevant specific and/or generic questions that the above text can answer.\n",
    "If you can't make a question with context, just don't say anything, don't try to make up an questions just to fill the quota.\"\"\""
   ]
  },
  {
   "cell_type": "markdown",
   "id": "ed4b08b8-b969-4eee-b821-fb5d34cd27ff",
   "metadata": {},
   "source": [
    "## New document"
   ]
  },
  {
   "cell_type": "code",
   "execution_count": 7,
   "id": "a6afbd21-ccaf-4caa-bbbf-6f0b9f6e00fa",
   "metadata": {},
   "outputs": [
    {
     "name": "stdout",
     "output_type": "stream",
     "text": [
      "\n",
      "Hello.\n",
      "Who am I?\n",
      "I'm just a test to verify it this documment was correctly updated in the vectorDB.\n",
      "I'm just an update.\n",
      "\n"
     ]
    }
   ],
   "source": [
    "# New text\n",
    "# Agent's introdutory text\n",
    "text_who_am_I = \"\"\"\n",
    "Hello.\n",
    "Who am I?\n",
    "I'm just a test to verify it this documment was correctly updated in the vectorDB.\n",
    "I'm just an update.\n",
    "\"\"\"\n",
    "print(text_who_am_I)"
   ]
  },
  {
   "cell_type": "code",
   "execution_count": 8,
   "id": "b56d57eb-5990-4260-b9fb-79130ca2ee1c",
   "metadata": {},
   "outputs": [],
   "source": [
    "flag_run = 1\n",
    "if flag_run == 1:\n",
    "    # Update collection_full_text\n",
    "    vector_db_id = document_ids \n",
    "    collection_full_text.update(\n",
    "        documents = [text_who_am_I], # The method .add() in the Chroma collections expects a list of documents. You have provided a single string (text_who_am_I). Make sure it’s wrapped in a list.\n",
    "        metadatas = {\"document_name\": document_name,  \n",
    "            \"vector_db_id\": vector_db_id, \n",
    "            'first_page': first_page, \n",
    "            'last_page': last_page,\n",
    "            'added_by': added_by,\n",
    "        },\n",
    "        ids = [str(vector_db_id)]\n",
    "    )\n",
    "\n",
    "    # Make questions\n",
    "    context = text_who_am_I\n",
    "    result = llm_chain.invoke({\"context\": context, \"question\": question})\n",
    "    collection_questions_text.update(\n",
    "        documents = result.content,\n",
    "        metadatas = {\"document_name\": document_name, \n",
    "            \"vector_db_id\": vector_db_id, \n",
    "            'first_page': first_page, \n",
    "            'last_page': last_page,\n",
    "            'added_by': added_by,\n",
    "        },\n",
    "        ids = [str(vector_db_id)]\n",
    "    )"
   ]
  },
  {
   "cell_type": "markdown",
   "id": "84e622ec-662a-4a1c-a368-23eb7a6710fa",
   "metadata": {},
   "source": [
    "## TEST"
   ]
  },
  {
   "cell_type": "code",
   "execution_count": 5,
   "id": "432ee202-e029-4c48-b8eb-933fe1fb5774",
   "metadata": {},
   "outputs": [
    {
     "data": {
      "text/plain": [
       "{'ids': ['1'],\n",
       " 'embeddings': None,\n",
       " 'documents': [\"\\nHello.\\nWho am I?\\nI'm just a test to verify it this documment was correctly updated in the vectorDB.\\nI'm just an update.\\n\"],\n",
       " 'uris': None,\n",
       " 'data': None,\n",
       " 'metadatas': [{'added_by': 'default',\n",
       "   'document_name': 'Agent_description',\n",
       "   'first_page': -1,\n",
       "   'last_page': -1,\n",
       "   'vector_db_id': '1'}],\n",
       " 'included': [<IncludeEnum.documents: 'documents'>,\n",
       "  <IncludeEnum.metadatas: 'metadatas'>]}"
      ]
     },
     "execution_count": 5,
     "metadata": {},
     "output_type": "execute_result"
    }
   ],
   "source": [
    "# Retrieve the document based on its ID\n",
    "document_id = \"1\"  # Replace with the actual ID you are looking for\n",
    "result = chroma_instance_full_text.get(ids=[document_id])\n",
    "result"
   ]
  },
  {
   "cell_type": "code",
   "execution_count": 7,
   "id": "cd6a5b70-8da1-4ae6-98fa-aa35e17284e4",
   "metadata": {},
   "outputs": [
    {
     "data": {
      "text/plain": [
       "[(Document(id='1', metadata={'added_by': 'default', 'document_name': 'Agent_description', 'first_page': -1, 'last_page': -1, 'vector_db_id': '1'}, page_content=\"\\nHello.\\nWho am I?\\nI'm just a test to verify it this documment was correctly updated in the vectorDB.\\nI'm just an update.\\n\"),\n",
       "  0.1411542547359449)]"
      ]
     },
     "execution_count": 7,
     "metadata": {},
     "output_type": "execute_result"
    }
   ],
   "source": [
    "text_who_am_I = \"\"\"\n",
    "Hello.\n",
    "Who am I?\n",
    "I'm just a test to verify it this documment was correctly updated in the vectorDB.\n",
    "I'm just an update.\n",
    "\"\"\"\n",
    "\n",
    "results = chroma_instance_full_text.similarity_search_with_score(\n",
    "        text_who_am_I,\n",
    "        k = 2,\n",
    "        filter = {'document_name': document_name}\n",
    "    )\n",
    "results"
   ]
  },
  {
   "cell_type": "code",
   "execution_count": 8,
   "id": "f362d79c-b02c-4bf7-91cf-282ce321eeb1",
   "metadata": {},
   "outputs": [
    {
     "data": {
      "text/plain": [
       "0.9294228726320275"
      ]
     },
     "execution_count": 8,
     "metadata": {},
     "output_type": "execute_result"
    }
   ],
   "source": [
    "results = chroma_instance_full_text.similarity_search_with_score(\n",
    "        text_who_am_I,\n",
    "        k = 2,\n",
    "        filter = {'first_page': -1}\n",
    "    )\n",
    "similarity_score = 1 - results[0][1] / 2\n",
    "similarity_score"
   ]
  },
  {
   "cell_type": "code",
   "execution_count": 9,
   "id": "b96b8332-c2fa-49ba-b4f5-70388ece0ad0",
   "metadata": {},
   "outputs": [
    {
     "data": {
      "text/plain": [
       "0.1505984663963318"
      ]
     },
     "execution_count": 9,
     "metadata": {},
     "output_type": "execute_result"
    }
   ],
   "source": [
    "results = chroma_instance_full_text.similarity_search_with_score(\n",
    "        text_who_am_I,\n",
    "        k = 2,\n",
    "        filter = {'first_page': 1}   # This is the wrong page.\n",
    "    )\n",
    "similarity_score = 1 - results[0][1] / 2\n",
    "similarity_score"
   ]
  },
  {
   "cell_type": "code",
   "execution_count": 10,
   "id": "2e6e1e82-8c67-45b3-8295-8602caf29fba",
   "metadata": {},
   "outputs": [
    {
     "data": {
      "text/plain": [
       "0.3524348097326879"
      ]
     },
     "execution_count": 10,
     "metadata": {},
     "output_type": "execute_result"
    }
   ],
   "source": [
    "results = chroma_instance_full_text.similarity_search_with_score(\n",
    "        \"Hi!\",\n",
    "        k = 1,\n",
    "        # filter = filter_metadata\n",
    "    )\n",
    "similarity_score = 1 - results[0][1] / 2\n",
    "similarity_score"
   ]
  },
  {
   "cell_type": "code",
   "execution_count": 11,
   "id": "9a83562b-0daa-49e5-b234-187566504ba2",
   "metadata": {},
   "outputs": [
    {
     "data": {
      "text/plain": [
       "[(Document(id='1', metadata={'added_by': 'default', 'document_name': 'Agent_description', 'first_page': -1, 'last_page': -1, 'vector_db_id': '1'}, page_content=\"\\nHello.\\nWho am I?\\nI'm just a test to verify it this documment was correctly updated in the vectorDB.\\nI'm just an update.\\n\"),\n",
       "  1.3629798398061506)]"
      ]
     },
     "execution_count": 11,
     "metadata": {},
     "output_type": "execute_result"
    }
   ],
   "source": [
    "results = chroma_instance_full_text.similarity_search_with_score(\n",
    "        \"Hello\",\n",
    "        k = 1,\n",
    "        # filter = filter_metadata\n",
    "    )\n",
    "results"
   ]
  }
 ],
 "metadata": {
  "kernelspec": {
   "display_name": "Python 3 (ipykernel)",
   "language": "python",
   "name": "python3"
  },
  "language_info": {
   "codemirror_mode": {
    "name": "ipython",
    "version": 3
   },
   "file_extension": ".py",
   "mimetype": "text/x-python",
   "name": "python",
   "nbconvert_exporter": "python",
   "pygments_lexer": "ipython3",
   "version": "3.10.0"
  }
 },
 "nbformat": 4,
 "nbformat_minor": 5
}
